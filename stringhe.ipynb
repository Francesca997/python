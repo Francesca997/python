{
  "nbformat": 4,
  "nbformat_minor": 0,
  "metadata": {
    "colab": {
      "provenance": [],
      "authorship_tag": "ABX9TyP4R2gIy4cba4tMCT9RlVwc",
      "include_colab_link": true
    },
    "kernelspec": {
      "name": "python3",
      "display_name": "Python 3"
    },
    "language_info": {
      "name": "python"
    }
  },
  "cells": [
    {
      "cell_type": "markdown",
      "metadata": {
        "id": "view-in-github",
        "colab_type": "text"
      },
      "source": [
        "<a href=\"https://colab.research.google.com/github/Francesca997/python/blob/main/stringhe.ipynb\" target=\"_parent\"><img src=\"https://colab.research.google.com/assets/colab-badge.svg\" alt=\"Open In Colab\"/></a>"
      ]
    },
    {
      "cell_type": "code",
      "source": [
        "#Assegnare una stringa \"Ciao mondo\" ad una variabile \"stringa\". Mandare quindi a schermo gli ultimi 5 caratteri della stringa in maiuscolo, sostituendo il carattere \"o\" con \"k\".\n",
        "stringa = \"Ciao mondo\"\n",
        "ultimi_cinque = stringa[-5:].upper().replace(\"O\", \"K\")\n",
        "\n",
        "print(ultimi_cinque)"
      ],
      "metadata": {
        "colab": {
          "base_uri": "https://localhost:8080/"
        },
        "id": "cx_YR99f07ln",
        "outputId": "ffbe6341-d7eb-4736-a811-74066cbb6db0"
      },
      "execution_count": 14,
      "outputs": [
        {
          "output_type": "stream",
          "name": "stdout",
          "text": [
            "MKNDK\n"
          ]
        }
      ]
    },
    {
      "cell_type": "code",
      "source": [
        "#Assegnare una stringa \" Ciao \" ad una variabile \"stringa\" e utilizzare il metodo strip() per rimuovere gli spazi vuoti all'inizio e alla fine della stringa..\n",
        "stringa = \"    Ciao mondo   \"\n",
        "stringa_pulita = stringa.strip()\n",
        "print(stringa_pulita)"
      ],
      "metadata": {
        "colab": {
          "base_uri": "https://localhost:8080/"
        },
        "id": "FbkrQCOx25gu",
        "outputId": "a4b6df42-3285-4cae-d1af-d6c0a282ba54"
      },
      "execution_count": 19,
      "outputs": [
        {
          "output_type": "stream",
          "name": "stdout",
          "text": [
            "Ciao mondo\n"
          ]
        }
      ]
    },
    {
      "cell_type": "code",
      "execution_count": 1,
      "metadata": {
        "colab": {
          "base_uri": "https://localhost:8080/"
        },
        "id": "YZ31QoPGprda",
        "outputId": "6bf712ba-9746-4270-ee82-0d7f9102cdd3"
      },
      "outputs": [
        {
          "output_type": "stream",
          "name": "stdout",
          "text": [
            "CIAO MONDO\n"
          ]
        }
      ],
      "source": [
        "#Assegnare una stringa \"ciao mondo\" ad una variabile \"stringa\" e utilizzare il metodo upper() per convertirla in maiuscolo in una nuova variabile.\n",
        "stringa = \"ciao mondo\"\n",
        "stringa_maiuscola = stringa.upper()\n",
        "print(stringa_maiuscola)"
      ]
    },
    {
      "cell_type": "code",
      "source": [
        "#Assegnare una stringa \"Benvenuti a Roma\" ad una variabile \"stringa\" e utilizzare il metodo lower() per convertirla in minuscolo in una nuova variabile.\n",
        "stringa  = \"CIAO MONDO\"\n",
        "stringa_minuscola = stringa.lower()\n",
        "print(stringa_minuscola)"
      ],
      "metadata": {
        "colab": {
          "base_uri": "https://localhost:8080/"
        },
        "id": "ZTo0ULbgqPhI",
        "outputId": "24f98ed8-b45b-4863-f869-493bcfec1bba"
      },
      "execution_count": 2,
      "outputs": [
        {
          "output_type": "stream",
          "name": "stdout",
          "text": [
            "ciao mondo\n"
          ]
        }
      ]
    },
    {
      "cell_type": "code",
      "source": [
        "#Assegnare una stringa \"Il meglio deve ancora venire\" ad una variabile \"stringa\" e utilizzare il metodo split() per dividere la stringa in una lista di parole.\n",
        "stringa = \"Il meglio deve ancora venire\"\n",
        "lista_parole = stringa.split()\n",
        "print(lista_parole)"
      ],
      "metadata": {
        "colab": {
          "base_uri": "https://localhost:8080/"
        },
        "id": "A3nXhpdAvNn8",
        "outputId": "6c514633-268f-4df7-cdb8-994437448229"
      },
      "execution_count": 3,
      "outputs": [
        {
          "output_type": "stream",
          "name": "stdout",
          "text": [
            "['Il', 'meglio', 'deve', 'ancora', 'venire']\n"
          ]
        }
      ]
    },
    {
      "cell_type": "code",
      "source": [
        "#Assegnare una stringa \"Hello World\" ad una variabile \"stringa\" e utilizzare il metodo replace() per sostituire \"World\" con \"Python\".\n",
        "stringa = \"Hello World\"\n",
        "stringa_modificata = stringa.replace(\"World\", \"Python\")\n",
        "print(stringa_modificata)"
      ],
      "metadata": {
        "colab": {
          "base_uri": "https://localhost:8080/"
        },
        "id": "MtmCW4Jlw2TE",
        "outputId": "6181119a-6007-4c1b-bc0a-2e4ad39b0ca9"
      },
      "execution_count": 4,
      "outputs": [
        {
          "output_type": "stream",
          "name": "stdout",
          "text": [
            "Hello Python\n"
          ]
        }
      ]
    },
    {
      "cell_type": "code",
      "source": [
        "#Assegnare una stringa \"abcdefg\" ad una variabile \"stringa\" ed estrarre i primi tre caratteri.\n",
        "stringa = \"abcdefg\"\n",
        "primi_tre_caratteri = stringa[0:3]\n",
        "print(primi_tre_caratteri)"
      ],
      "metadata": {
        "colab": {
          "base_uri": "https://localhost:8080/"
        },
        "id": "DJmhdOLqxRPc",
        "outputId": "7e679546-e3f6-40a8-c8f3-76582cb9b872"
      },
      "execution_count": 6,
      "outputs": [
        {
          "output_type": "stream",
          "name": "stdout",
          "text": [
            "abc\n"
          ]
        }
      ]
    },
    {
      "cell_type": "code",
      "source": [
        "#Assegnare una stringa \"Python\" ad una variabile \"stringa\" e utilizzare il metodo startswith() per verificare se la stringa inizia con \"Py\".\n",
        "str11=\"python\"\n",
        "booleano = str11.startswith(\"PY\".lower())\n",
        "print(booleano)"
      ],
      "metadata": {
        "colab": {
          "base_uri": "https://localhost:8080/"
        },
        "id": "wDcwYR8w0wCJ",
        "outputId": "10e843fb-3a1b-4601-c99a-81754126d8e7"
      },
      "execution_count": 7,
      "outputs": [
        {
          "output_type": "stream",
          "name": "stdout",
          "text": [
            "True\n"
          ]
        }
      ]
    },
    {
      "cell_type": "code",
      "source": [
        "#Assegnare una stringa \"Ciao mondo\" ad una variabile \"stringa\" e utilizzare il metodo count() per contare il numero di volte in cui la lettera \"o\" appare nella stringa.\n",
        "stringa = \"Ciao mondo\"\n",
        "numero_occorrenze = stringa.count(\"o\")\n",
        "print(numero_occorrenze)"
      ],
      "metadata": {
        "colab": {
          "base_uri": "https://localhost:8080/"
        },
        "id": "i84t1wCT00Bi",
        "outputId": "d5717b82-5990-4fe9-9b06-13eff522145e"
      },
      "execution_count": 8,
      "outputs": [
        {
          "output_type": "stream",
          "name": "stdout",
          "text": [
            "3\n"
          ]
        }
      ]
    }
  ]
}