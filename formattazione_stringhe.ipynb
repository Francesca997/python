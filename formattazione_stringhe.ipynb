{
  "nbformat": 4,
  "nbformat_minor": 0,
  "metadata": {
    "colab": {
      "provenance": [],
      "authorship_tag": "ABX9TyPUsSEoOzkSPE/iBNzXHYpc",
      "include_colab_link": true
    },
    "kernelspec": {
      "name": "python3",
      "display_name": "Python 3"
    },
    "language_info": {
      "name": "python"
    }
  },
  "cells": [
    {
      "cell_type": "markdown",
      "metadata": {
        "id": "view-in-github",
        "colab_type": "text"
      },
      "source": [
        "<a href=\"https://colab.research.google.com/github/Francesca997/python/blob/main/formattazione_stringhe.ipynb\" target=\"_parent\"><img src=\"https://colab.research.google.com/assets/colab-badge.svg\" alt=\"Open In Colab\"/></a>"
      ]
    },
    {
      "cell_type": "code",
      "source": [
        "#Partendo dalla variabile \"numero\" uguale a 5, utilizzare le f-strings (interpolazione) per ottenere \"Il quadrato di 5 è 25\"\n",
        "import math\n",
        "numero = 5\n",
        "print(f\"Il quadrato di {numero} è {math.pow(numero,2)}\")"
      ],
      "metadata": {
        "colab": {
          "base_uri": "https://localhost:8080/"
        },
        "id": "waQbrdG97aMa",
        "outputId": "89f58163-9966-4c59-c6c3-ee432d2c0e90"
      },
      "execution_count": 7,
      "outputs": [
        {
          "output_type": "stream",
          "name": "stdout",
          "text": [
            "Il quadrato di 5 è 25.0\n"
          ]
        }
      ]
    },
    {
      "cell_type": "code",
      "source": [
        "#Partendo dalla variabile \"numero\" uguale a 5, utilizzare le f-strings (interpolazione) per ottenere \"Il quadrato di 5 è 25\"\n",
        "numero = 5\n",
        "print(f\"Il quadrato di {numero} è {numero**2}\")"
      ],
      "metadata": {
        "colab": {
          "base_uri": "https://localhost:8080/"
        },
        "id": "imEObrP67I_1",
        "outputId": "9b757c4d-226d-4396-d9f0-d3971bb143f8"
      },
      "execution_count": 5,
      "outputs": [
        {
          "output_type": "stream",
          "name": "stdout",
          "text": [
            "Il quadrato di 5 è 25\n"
          ]
        }
      ]
    },
    {
      "cell_type": "code",
      "source": [
        "#Utilizzare la formattazione delle stringhe per ottenere \"Il numero binario di 42 è 0b101010\". Per il binario utilizzare bin(numero)\n",
        "numero = 42\n",
        "print(f\"Il numero binario di {numero} è {bin(numero)}\")"
      ],
      "metadata": {
        "colab": {
          "base_uri": "https://localhost:8080/"
        },
        "id": "HG3lKOso5-Gx",
        "outputId": "4962a7cb-1f6f-4c1b-c7a4-a684ae50149e"
      },
      "execution_count": 4,
      "outputs": [
        {
          "output_type": "stream",
          "name": "stdout",
          "text": [
            "Il numero binario di 42 è 0b101010\n"
          ]
        }
      ]
    },
    {
      "cell_type": "code",
      "source": [
        "#Utilizzare la formattazione delle stringhe per ottenere \"Il numero è: 42\".\n",
        "numero = 42\n",
        "print(f\"Il numero è: {numero}\")"
      ],
      "metadata": {
        "colab": {
          "base_uri": "https://localhost:8080/"
        },
        "id": "QyxNvxFu4vSi",
        "outputId": "c751eeb3-d54e-4d45-bbd7-79fe81fd4b4f"
      },
      "execution_count": 3,
      "outputs": [
        {
          "output_type": "stream",
          "name": "stdout",
          "text": [
            "Il numero è: 42\n"
          ]
        }
      ]
    },
    {
      "cell_type": "code",
      "source": [
        "#Partendo da \"nome\" e \"cognome\" utilizzare la formattazione strighe per ottenere \"Il mio nome è {nome} ed il cognome è {cognome}\". Come da esempio dovete fare riferimento al nome delle variabili e non alla posizione usata dentro format.\n",
        "nome = \"Francesca\"\n",
        "cognome = \"Gambardella\"\n",
        "print(f\"Il mio nome è {nome} ed il cognome è {cognome}\")"
      ],
      "metadata": {
        "colab": {
          "base_uri": "https://localhost:8080/"
        },
        "id": "bRMrYwvJ8lzW",
        "outputId": "5a7f0e3b-ae00-4fd6-8b28-995c3da2ca66"
      },
      "execution_count": 8,
      "outputs": [
        {
          "output_type": "stream",
          "name": "stdout",
          "text": [
            "Il mio nome è Francesca ed il cognome è Gambardella\n"
          ]
        }
      ]
    },
    {
      "cell_type": "code",
      "execution_count": 1,
      "metadata": {
        "colab": {
          "base_uri": "https://localhost:8080/"
        },
        "id": "-KzVrEpR4CC9",
        "outputId": "a4492866-a5ba-40d6-8a00-02421231c696"
      },
      "outputs": [
        {
          "output_type": "stream",
          "name": "stdout",
          "text": [
            "Francesca Gambardella\n"
          ]
        }
      ],
      "source": [
        "#Creare due variabili \"nome\" e \"cognome\" e concatenarle a schermo.\n",
        "nome = \"Francesca\"\n",
        "cognome = \"Gambardella\"\n",
        "print(nome + \" \" + cognome)"
      ]
    }
  ]
}