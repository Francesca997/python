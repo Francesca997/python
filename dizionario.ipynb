{
  "nbformat": 4,
  "nbformat_minor": 0,
  "metadata": {
    "colab": {
      "provenance": [],
      "authorship_tag": "ABX9TyPRiWU73hNHbN2xzgxwh/fs",
      "include_colab_link": true
    },
    "kernelspec": {
      "name": "python3",
      "display_name": "Python 3"
    },
    "language_info": {
      "name": "python"
    }
  },
  "cells": [
    {
      "cell_type": "markdown",
      "metadata": {
        "id": "view-in-github",
        "colab_type": "text"
      },
      "source": [
        "<a href=\"https://colab.research.google.com/github/Francesca997/python/blob/main/dizionario.ipynb\" target=\"_parent\"><img src=\"https://colab.research.google.com/assets/colab-badge.svg\" alt=\"Open In Colab\"/></a>"
      ]
    },
    {
      "cell_type": "code",
      "source": [
        "#Contare il numero di elementi nel dizionario precedente.\n",
        "dizionario = {'nome': 'Mario', 'cognome': 'Rossi', 'età': 30}\n",
        "numero_elementi = len(dizionario)\n",
        "print(numero_elementi)"
      ],
      "metadata": {
        "colab": {
          "base_uri": "https://localhost:8080/"
        },
        "id": "zTiretGpQWKo",
        "outputId": "4ce39063-e4f8-4003-d0ad-595cc4b36f70"
      },
      "execution_count": 16,
      "outputs": [
        {
          "output_type": "stream",
          "name": "stdout",
          "text": [
            "3\n"
          ]
        }
      ]
    },
    {
      "cell_type": "code",
      "source": [
        "#Aggiornare il valore dell'elemento con chiave \"età\" del dizionario precedente a 35.\n",
        "dizionario = {'nome': 'Mario', 'cognome': 'Rossi', 'età': 30}\n",
        "dizionario['età'] = 35\n",
        "print(dizionario)"
      ],
      "metadata": {
        "colab": {
          "base_uri": "https://localhost:8080/"
        },
        "id": "mFMTEngWQAKy",
        "outputId": "08efab65-0a89-434f-cfb7-5c6a70282f56"
      },
      "execution_count": 15,
      "outputs": [
        {
          "output_type": "stream",
          "name": "stdout",
          "text": [
            "{'nome': 'Mario', 'cognome': 'Rossi', 'età': 35}\n"
          ]
        }
      ]
    },
    {
      "cell_type": "code",
      "source": [
        "#Creare una nuova lista che contenga solo i valori del dizionario precedente.\n",
        "dizionario = {'nome': 'Mario', 'cognome': 'Rossi', 'età': 30}\n",
        "valori = list(dizionario.values())\n",
        "print(valori)"
      ],
      "metadata": {
        "colab": {
          "base_uri": "https://localhost:8080/"
        },
        "id": "48QqKKFUPhaS",
        "outputId": "349b61c5-ec88-457a-b949-865f0d6766e7"
      },
      "execution_count": 14,
      "outputs": [
        {
          "output_type": "stream",
          "name": "stdout",
          "text": [
            "['Mario', 'Rossi', 30]\n"
          ]
        }
      ]
    },
    {
      "cell_type": "code",
      "source": [
        "#Creare una nuova lista che contenga solo le chiavi del dizionario precedente.\n",
        "dizionario = {'nome': 'Mario', 'cognome': 'Rossi', 'età': 30}\n",
        "chiavi = list(dizionario.keys())\n",
        "print(chiavi)"
      ],
      "metadata": {
        "colab": {
          "base_uri": "https://localhost:8080/"
        },
        "id": "PN4Vi01ePA5e",
        "outputId": "49944038-17eb-4f49-b8b5-585edd54a1a5"
      },
      "execution_count": 13,
      "outputs": [
        {
          "output_type": "stream",
          "name": "stdout",
          "text": [
            "['nome', 'cognome', 'età']\n"
          ]
        }
      ]
    },
    {
      "cell_type": "code",
      "source": [
        "#Rimuovere l'elemento con chiave \"cognome\" dal dizionario precedente.\n",
        "dizionario = {'nome': 'Mario', 'cognome': 'Rossi', 'età': 30}\n",
        "del dizionario['cognome']\n",
        "print(dizionario)"
      ],
      "metadata": {
        "colab": {
          "base_uri": "https://localhost:8080/"
        },
        "id": "9CZgUpAmOuX5",
        "outputId": "efeecdf9-489c-43fa-ccfd-f8095fa284bb"
      },
      "execution_count": 9,
      "outputs": [
        {
          "output_type": "stream",
          "name": "stdout",
          "text": [
            "{'nome': 'Mario', 'età': 30}\n"
          ]
        }
      ]
    },
    {
      "cell_type": "code",
      "source": [
        "#Aggiungere un nuovo elemento \"email\" con valore \"mario.rossi@email.com\" al dizionario precedente.\n",
        "dizionario = {'nome': 'Mario', 'cognome': 'Rossi', 'età': 30}\n",
        "dizionario['email'] = 'mario.rossi@email.com'\n",
        "print(dizionario)"
      ],
      "metadata": {
        "colab": {
          "base_uri": "https://localhost:8080/"
        },
        "id": "1LdyjJpDOR4v",
        "outputId": "516da0ae-e6c3-4697-e551-7afe12e208c6"
      },
      "execution_count": 7,
      "outputs": [
        {
          "output_type": "stream",
          "name": "stdout",
          "text": [
            "{'nome': 'Mario', 'cognome': 'Rossi', 'età': 30, 'email': 'mario.rossi@email.com'}\n"
          ]
        }
      ]
    },
    {
      "cell_type": "code",
      "source": [
        "#Accedere al valore dell'elemento con chiave \"età\" del dizionario precedente.\n",
        "dizionario = {'nome': 'Mario', 'cognome': 'Rossi', 'età': 30}\n",
        "print(dizionario['età'])"
      ],
      "metadata": {
        "colab": {
          "base_uri": "https://localhost:8080/"
        },
        "id": "pc9LhjBpNxPM",
        "outputId": "0606847f-4e1d-415b-8fe0-537010c3cd42"
      },
      "execution_count": 6,
      "outputs": [
        {
          "output_type": "stream",
          "name": "stdout",
          "text": [
            "30\n"
          ]
        }
      ]
    },
    {
      "cell_type": "code",
      "execution_count": 5,
      "metadata": {
        "colab": {
          "base_uri": "https://localhost:8080/"
        },
        "id": "E7AlbADnMzDJ",
        "outputId": "09a55731-5de2-480a-c1da-443e4ba14eaa"
      },
      "outputs": [
        {
          "output_type": "stream",
          "name": "stdout",
          "text": [
            "{'nome': 'Mario', 'cognome': 'Rossi', 'età': 30}\n"
          ]
        }
      ],
      "source": [
        "#Creare un dizionario con le seguenti chiavi e valori: \"nome\" : \"Mario\", \"cognome\" : \"Rossi\", \"età\" : 30.\n",
        "dizionario = {'nome': 'Mario', 'cognome': 'Rossi', 'età': 30}\n",
        "print(dizionario)"
      ]
    }
  ]
}