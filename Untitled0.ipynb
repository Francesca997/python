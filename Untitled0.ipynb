{
  "nbformat": 4,
  "nbformat_minor": 0,
  "metadata": {
    "colab": {
      "provenance": [],
      "authorship_tag": "ABX9TyMa5yUl7y+dPo/lM5hBZCVk",
      "include_colab_link": true
    },
    "kernelspec": {
      "name": "python3",
      "display_name": "Python 3"
    },
    "language_info": {
      "name": "python"
    }
  },
  "cells": [
    {
      "cell_type": "markdown",
      "metadata": {
        "id": "view-in-github",
        "colab_type": "text"
      },
      "source": [
        "<a href=\"https://colab.research.google.com/github/Francesca997/python/blob/main/Untitled0.ipynb\" target=\"_parent\"><img src=\"https://colab.research.google.com/assets/colab-badge.svg\" alt=\"Open In Colab\"/></a>"
      ]
    },
    {
      "cell_type": "code",
      "source": [
        "##Dichiarare due variabili \"numero1\" e \"numero2\" e assegnargli due numeri interi. Eseguire l'addizione tra le due variabili e assegnare il risultato ad una nuova variabile \"somma\", mandandola a schermo\n",
        "somma = 0\n",
        "for i in range(0, 2):\n",
        "  numero = int(input(\"inserisci un numero :\"))\n",
        "  somma = somma + numero\n",
        "\n",
        "print(\"somma : \", somma)"
      ],
      "metadata": {
        "colab": {
          "base_uri": "https://localhost:8080/"
        },
        "id": "dWw7_xfuFqCb",
        "outputId": "bfeffcd6-1b04-4681-9b00-a000ee2149ee"
      },
      "execution_count": 5,
      "outputs": [
        {
          "output_type": "stream",
          "name": "stdout",
          "text": [
            "inserisci un numero :5\n",
            "inserisci un numero :12\n",
            "somma :  17\n"
          ]
        }
      ]
    },
    {
      "cell_type": "code",
      "source": [
        "#Eseguire la sottrazione tra le due variabili e assegnare il risultato ad una nuova variabile \"differenza\". Mandare a schermo.\n",
        "a = int(input(\"inserisci un numero :\"))\n",
        "b = int(input(\"inserisci un numero :\"))\n",
        "differenza = a - b\n",
        "print(differenza)"
      ],
      "metadata": {
        "colab": {
          "base_uri": "https://localhost:8080/"
        },
        "id": "kg2BKm2mIerF",
        "outputId": "2dda3979-6fa7-4bb0-cf40-9c7590fa8e79"
      },
      "execution_count": 6,
      "outputs": [
        {
          "output_type": "stream",
          "name": "stdout",
          "text": [
            "inserisci un numero :45\n",
            "inserisci un numero :22\n",
            "23\n"
          ]
        }
      ]
    },
    {
      "cell_type": "code",
      "source": [
        "#Eseguire la moltiplicazione tra le due variabili e assegnare il risultato ad una nuova variabile \"prodotto\". Mandare a schermo.\n",
        "prodotto = 1\n",
        "for i in range (0, 2):\n",
        "  numero = float(input(\"inserisci un numero :\"))\n",
        "  prodotto = prodotto * numero\n",
        "\n",
        "print(prodotto)"
      ],
      "metadata": {
        "colab": {
          "base_uri": "https://localhost:8080/"
        },
        "id": "jmvOPyZbJg01",
        "outputId": "cb9734e6-be8e-4ab4-bebd-7b1f8e06bf54"
      },
      "execution_count": 10,
      "outputs": [
        {
          "output_type": "stream",
          "name": "stdout",
          "text": [
            "inserisci un numero :2\n",
            "inserisci un numero :5\n",
            "10.0\n"
          ]
        }
      ]
    },
    {
      "cell_type": "code",
      "source": [
        "#Eseguire la divisione tra le due variabili e assegnare il risultato ad una nuova variabile \"quoziente\". Mandare a schermo.\n",
        "divisione = float(input(\"Inserisci un numero: \"))\n",
        "\n",
        "for i in range(1, 2):\n",
        "  numero = float(input(\"Inserisci un altro numero: \"))\n",
        "  divisione = divisione / numero\n",
        "\n",
        "print(f\"Il risultato della divisione è: {divisione}\")"
      ],
      "metadata": {
        "colab": {
          "base_uri": "https://localhost:8080/"
        },
        "id": "vCjtLIbvKRFY",
        "outputId": "a0edcd36-d4b3-41f4-a361-4aa464b45603"
      },
      "execution_count": 13,
      "outputs": [
        {
          "output_type": "stream",
          "name": "stdout",
          "text": [
            "Inserisci un numero: 10\n",
            "Inserisci un altro numero: 2\n",
            "Il risultato della divisione è: 5.0\n"
          ]
        }
      ]
    },
    {
      "cell_type": "code",
      "source": [
        "#Incrementare \"numero1\" di 1 e decrementare \"numero2\" di 3. Mandare a schermo i nuovi valori.\n",
        "a = int(input(\"inserisci un numero :\"))\n",
        "b = int(input(\"inserisci un numero :\"))\n",
        "a = a + 1\n",
        "b = b - 3\n",
        "print(\"Il nuovo valore di numero1 è:\", a)\n",
        "print(\"Il nuovo valore di numero2 è:\", b)"
      ],
      "metadata": {
        "colab": {
          "base_uri": "https://localhost:8080/"
        },
        "id": "op6oBCCNPCUt",
        "outputId": "3e876240-b28a-43cd-c30f-086de6675943"
      },
      "execution_count": 15,
      "outputs": [
        {
          "output_type": "stream",
          "name": "stdout",
          "text": [
            "inserisci un numero :5\n",
            "inserisci un numero :8\n",
            "Il nuovo valore di numero1 è: 6\n",
            "Il nuovo valore di numero2 è: 5\n"
          ]
        }
      ]
    },
    {
      "cell_type": "code",
      "source": [
        "#Trovare quella operazione per portare \"numero1\" a valere 1 senza riassegnarlo direttamente ad 1 e sottraendolo a se stesso.\n",
        "numero1 = 9\n",
        "numero1 = numero1 - (numero1 - 1)\n",
        "print(numero1)"
      ],
      "metadata": {
        "colab": {
          "base_uri": "https://localhost:8080/"
        },
        "id": "Z4PckkKPmixY",
        "outputId": "219dfb81-90f4-4732-c3a5-08ca71606534"
      },
      "execution_count": 18,
      "outputs": [
        {
          "output_type": "stream",
          "name": "stdout",
          "text": [
            "1\n"
          ]
        }
      ]
    }
  ]
}