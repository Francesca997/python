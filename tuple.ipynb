{
  "nbformat": 4,
  "nbformat_minor": 0,
  "metadata": {
    "colab": {
      "provenance": [],
      "authorship_tag": "ABX9TyNLj+cgrFuGM9hcWQ0RD2Qa",
      "include_colab_link": true
    },
    "kernelspec": {
      "name": "python3",
      "display_name": "Python 3"
    },
    "language_info": {
      "name": "python"
    }
  },
  "cells": [
    {
      "cell_type": "markdown",
      "metadata": {
        "id": "view-in-github",
        "colab_type": "text"
      },
      "source": [
        "<a href=\"https://colab.research.google.com/github/Francesca997/python/blob/main/tuple.ipynb\" target=\"_parent\"><img src=\"https://colab.research.google.com/assets/colab-badge.svg\" alt=\"Open In Colab\"/></a>"
      ]
    },
    {
      "cell_type": "code",
      "source": [
        "#Contare il numero di occorrenze dell'elemento \"mela\" nella tupla precedente.\n",
        "tupla = (\"mela\", \"kiwi\", \"mela\", \"ananas\", \"lampone\")\n",
        "print(tupla.count(\"mela\"))"
      ],
      "metadata": {
        "colab": {
          "base_uri": "https://localhost:8080/"
        },
        "id": "GpO9zg6B6bbb",
        "outputId": "fdbd6ec0-1dd8-42fe-840d-6d185a8ce947"
      },
      "execution_count": 9,
      "outputs": [
        {
          "output_type": "stream",
          "name": "stdout",
          "text": [
            "2\n"
          ]
        }
      ]
    },
    {
      "cell_type": "code",
      "source": [
        "#Creare una tupla contenente il quadrato dei numeri interi da 1 a 5.\n",
        "quadrati = tuple(x**2 for x in range(1, 6))\n",
        "print(quadrati)"
      ],
      "metadata": {
        "colab": {
          "base_uri": "https://localhost:8080/"
        },
        "id": "41o8JiCN5BfJ",
        "outputId": "36fc292f-24fe-456b-9d23-6617cc4a5718"
      },
      "execution_count": 8,
      "outputs": [
        {
          "output_type": "stream",
          "name": "stdout",
          "text": [
            "(1, 4, 9, 16, 25)\n"
          ]
        }
      ]
    },
    {
      "cell_type": "code",
      "source": [
        "#Creare una nuova tupla concatenando la tupla precedente con la tupla (\"pesca\", \"arancia\").\n",
        "tupla = (\"mela\", \"kiwi\", \"lampone\")\n",
        "tupla_concatenata = tupla + (\"pesca\", \"arancia\")\n",
        "print(tupla_concatenata)"
      ],
      "metadata": {
        "colab": {
          "base_uri": "https://localhost:8080/"
        },
        "id": "7iOyV24k2XsR",
        "outputId": "ba32037b-ec1f-477a-d63b-c1c891d238f5"
      },
      "execution_count": 6,
      "outputs": [
        {
          "output_type": "stream",
          "name": "stdout",
          "text": [
            "('mela', 'kiwi', 'lampone', 'pesca', 'arancia')\n"
          ]
        }
      ]
    },
    {
      "cell_type": "code",
      "source": [
        "#Verificare se l'elemento \"ananas\" è presente nella tupla precedente\n",
        "tupla = (\"mela\", \"kiwi\", \"ananas\")\n",
        "if \"ananas\" in tupla:\n",
        "    print(\"L'elemento 'ananas' è presente nella tupla.\")\n",
        "else:\n",
        "    print(\"L'elemento 'ananas' non è presente nella tupla.\")"
      ],
      "metadata": {
        "colab": {
          "base_uri": "https://localhost:8080/"
        },
        "id": "630smx8c1u9c",
        "outputId": "1a4659d5-e4a7-42c0-c2a7-f3770e631329"
      },
      "execution_count": 5,
      "outputs": [
        {
          "output_type": "stream",
          "name": "stdout",
          "text": [
            "L'elemento 'ananas' è presente nella tupla.\n"
          ]
        }
      ]
    },
    {
      "cell_type": "code",
      "source": [
        "#Creare una nuova tupla che contenga solo i primi due elementi della tupla precedente.\n",
        "tupla = (\"mela\", \"kiwi\", \"lampone\")\n",
        "print(tupla[0:2])"
      ],
      "metadata": {
        "colab": {
          "base_uri": "https://localhost:8080/"
        },
        "id": "yqk1zdkp1uyM",
        "outputId": "f1886ae4-d95a-4bf2-cc4a-4fb2227bba58"
      },
      "execution_count": 4,
      "outputs": [
        {
          "output_type": "stream",
          "name": "stdout",
          "text": [
            "('mela', 'kiwi')\n"
          ]
        }
      ]
    },
    {
      "cell_type": "code",
      "source": [
        "#Creare una tupla contenente i numeri interi da 1 a 5.\n",
        "tupla = (1, 2, 3, 4, 5)\n",
        "print(tupla)"
      ],
      "metadata": {
        "colab": {
          "base_uri": "https://localhost:8080/"
        },
        "id": "LeYLbMjA47U1",
        "outputId": "f05949e4-ad14-435e-aa75-85be7063c0f3"
      },
      "execution_count": 7,
      "outputs": [
        {
          "output_type": "stream",
          "name": "stdout",
          "text": [
            "(1, 2, 3, 4, 5)\n"
          ]
        }
      ]
    },
    {
      "cell_type": "code",
      "source": [
        "#Accedere all'elemento \"kiwi\" della tupla precedente\n",
        "tupla = (\"mela\", \"kiwi\", \"lampone\")\n",
        "print(tupla[1])"
      ],
      "metadata": {
        "colab": {
          "base_uri": "https://localhost:8080/"
        },
        "id": "i3S5lIFe1jyg",
        "outputId": "d39b6ef7-9847-4381-a336-1ce3782dc918"
      },
      "execution_count": 3,
      "outputs": [
        {
          "output_type": "stream",
          "name": "stdout",
          "text": [
            "kiwi\n"
          ]
        }
      ]
    },
    {
      "cell_type": "code",
      "source": [
        "#Creare una tupla con i seguenti elementi: \"mela\", \"kiwi\", \"lampone\"\n",
        "tupla = (\"mela\", \"kiwi\", \"lampone\")\n",
        "print(tupla)"
      ],
      "metadata": {
        "colab": {
          "base_uri": "https://localhost:8080/"
        },
        "id": "Jseis_nk1EO6",
        "outputId": "fa2ca068-208e-4b08-a237-0aefae6c64b2"
      },
      "execution_count": 2,
      "outputs": [
        {
          "output_type": "stream",
          "name": "stdout",
          "text": [
            "('mela', 'kiwi', 'lampone')\n"
          ]
        }
      ]
    },
    {
      "cell_type": "code",
      "execution_count": 1,
      "metadata": {
        "colab": {
          "base_uri": "https://localhost:8080/"
        },
        "id": "ZIxkMa5Qz7xz",
        "outputId": "d3727e25-0723-4242-f2cc-74f2513d9dd2"
      },
      "outputs": [
        {
          "output_type": "stream",
          "name": "stdout",
          "text": [
            "()\n"
          ]
        }
      ],
      "source": [
        "#Creare una tupla vuota e assegnarla a una variabile.\n",
        "tupla_vuota = ()\n",
        "print(tupla_vuota)"
      ]
    }
  ]
}