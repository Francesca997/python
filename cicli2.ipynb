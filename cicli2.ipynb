{
  "nbformat": 4,
  "nbformat_minor": 0,
  "metadata": {
    "colab": {
      "provenance": [],
      "authorship_tag": "ABX9TyMIw1RnJ7QBEquCbRRQd2Aq",
      "include_colab_link": true
    },
    "kernelspec": {
      "name": "python3",
      "display_name": "Python 3"
    },
    "language_info": {
      "name": "python"
    }
  },
  "cells": [
    {
      "cell_type": "markdown",
      "metadata": {
        "id": "view-in-github",
        "colab_type": "text"
      },
      "source": [
        "<a href=\"https://colab.research.google.com/github/Francesca997/python/blob/main/cicli2.ipynb\" target=\"_parent\"><img src=\"https://colab.research.google.com/assets/colab-badge.svg\" alt=\"Open In Colab\"/></a>"
      ]
    },
    {
      "cell_type": "code",
      "source": [
        "#Chiedere all'utente di inserire una stringa. Stampare solo le consonanti della stringa usando un loop while.\n",
        "stringa = input(\"Inserisci una stringa: \")\n",
        "\n",
        "consonanti = \"bcdfghlmnpqrstvwxyz\"\n",
        "\n",
        "i = 0\n",
        "\n",
        "while i < len(stringa):\n",
        "  if stringa[i] in consonanti:\n",
        "    print(stringa[i])\n",
        "  i += 1"
      ],
      "metadata": {
        "colab": {
          "base_uri": "https://localhost:8080/"
        },
        "id": "WmbkDY2rckrd",
        "outputId": "3a5f7f70-e6b5-4342-e58e-d8def83d8cb4"
      },
      "execution_count": 27,
      "outputs": [
        {
          "output_type": "stream",
          "name": "stdout",
          "text": [
            "Inserisci una stringa: cia come stai\n",
            "c\n",
            "c\n",
            "m\n",
            "s\n",
            "t\n"
          ]
        }
      ]
    },
    {
      "cell_type": "code",
      "source": [
        "#Calcolare il fattoriale di un numero intero positivo n usando un loop while.\n",
        "numero = int(input(\"Inserisci un numero di cui calcolare il fattoriale:\"))\n",
        "fattoriale = numero\n",
        "contatore = numero - 1\n",
        "while contatore >= 1:\n",
        "  fattoriale *= contatore\n",
        "  contatore -= 1\n",
        "\n",
        "print(\"Calcolo del fattoriale calcolato iterativemente è \", fattoriale)\n",
        "\n",
        "\n",
        "def fattoriale_ricorsivo(n):\n",
        "  if n == 1:\n",
        "    return 1\n",
        "  return n * fattoriale_ricorsivo(n-1)\n",
        "\n",
        "print(\"Calcolo del fattoriale calcolato ricorsivamente: \", fattoriale_ricorsivo(numero))"
      ],
      "metadata": {
        "colab": {
          "base_uri": "https://localhost:8080/"
        },
        "id": "11SXR4ajW5-u",
        "outputId": "7235d766-ad72-4457-969c-f5ba19f734a4"
      },
      "execution_count": 20,
      "outputs": [
        {
          "output_type": "stream",
          "name": "stdout",
          "text": [
            "Inserisci un numero di cui calcolare il fattoriale:3\n",
            "Calcolo del fattoriale calcolato iterativemente è  6\n",
            "Calcolo del fattoriale calcolato ricorsivamente:  6\n"
          ]
        }
      ]
    },
    {
      "cell_type": "code",
      "source": [
        "#Chiedere all'utente di inserire una lista di numeri interi. Stampare la somma di tutti i numeri usando un loop while.\n",
        "numeri = input(\"Inserisci una lista di numeri interi separati da uno spazio: \").split()\n",
        "somma = 0\n",
        "indice = 0\n",
        "while indice < len(numeri):\n",
        "    somma += int(numeri[indice])\n",
        "    indice += 1\n",
        "print(\"La somma dei numeri inseriti è:\", somma)"
      ],
      "metadata": {
        "colab": {
          "base_uri": "https://localhost:8080/"
        },
        "id": "EsnWBSUubRUs",
        "outputId": "7c42ab9f-f918-4645-b724-dea9fc2783f0"
      },
      "execution_count": 21,
      "outputs": [
        {
          "output_type": "stream",
          "name": "stdout",
          "text": [
            "Inserisci una lista di numeri interi separati da uno spazio: 2 5 4 6\n",
            "La somma dei numeri inseriti è: 17\n"
          ]
        }
      ]
    },
    {
      "cell_type": "code",
      "source": [
        "#Calcolare il fattoriale di un numero intero positivo n usando un loop while.\n",
        "n = int(input(\"Inserisci un numero intero positivo: \"))\n",
        "fattoriale = 1\n",
        "i = 1\n",
        "while i <= n:\n",
        "    fattoriale *= i\n",
        "    i += 1\n",
        "    print(\"Il fattoriale di\", n, \"è\", fattoriale)"
      ],
      "metadata": {
        "colab": {
          "base_uri": "https://localhost:8080/"
        },
        "id": "09E-9OK3WiR7",
        "outputId": "41a1baaa-b0b3-48f1-b78b-6cb46fd8dbdb"
      },
      "execution_count": 15,
      "outputs": [
        {
          "output_type": "stream",
          "name": "stdout",
          "text": [
            "Inserisci un numero intero positivo: 5\n",
            "Il fattoriale di 5 è 1\n",
            "Il fattoriale di 5 è 2\n",
            "Il fattoriale di 5 è 6\n",
            "Il fattoriale di 5 è 24\n",
            "Il fattoriale di 5 è 120\n"
          ]
        }
      ]
    },
    {
      "cell_type": "code",
      "source": [
        "#Stampare i numeri da 10 a 1 usando un loop while.\n",
        "numero = 10\n",
        "while numero >= 1:\n",
        "    print(numero)\n",
        "    numero -= 1"
      ],
      "metadata": {
        "colab": {
          "base_uri": "https://localhost:8080/"
        },
        "id": "NwyqU0AoWZm3",
        "outputId": "4cb08f4a-cbab-4805-e13c-6af0c10a727c"
      },
      "execution_count": 14,
      "outputs": [
        {
          "output_type": "stream",
          "name": "stdout",
          "text": [
            "10\n",
            "9\n",
            "8\n",
            "7\n",
            "6\n",
            "5\n",
            "4\n",
            "3\n",
            "2\n",
            "1\n"
          ]
        }
      ]
    },
    {
      "cell_type": "code",
      "source": [
        "#Chiedere all'utente di inserire una stringa. Stampare la stringa al contrario usando un loop while.\n",
        "stringa = input(\"Inserisci una stringa: \")\n",
        "indice = len(stringa) - 1\n",
        "while indice >= 0:\n",
        "    print(stringa[indice], end=\"\")\n",
        "    indice -= 1"
      ],
      "metadata": {
        "colab": {
          "base_uri": "https://localhost:8080/"
        },
        "id": "UHgqGhWcQI7o",
        "outputId": "2f23548e-41cd-4e9e-c528-f1def089cdf5"
      },
      "execution_count": 12,
      "outputs": [
        {
          "output_type": "stream",
          "name": "stdout",
          "text": [
            "Inserisci una stringa: ciao\n",
            "oaic"
          ]
        }
      ]
    },
    {
      "cell_type": "code",
      "source": [
        "#Chiedere all'utente di indovinare un numero intero casuale compreso tra 1 e 10. Continuare a chiedere all'utente di indovinare finché non indovina il numero corretto. Usare un loop while.\n",
        "import random\n",
        "numero_casuale = random.randint(1, 10)\n",
        "indovinato = False\n",
        "while not indovinato:\n",
        "    numero_utente = int(input(\"Indovina il numero intero casuale compreso tra 1 e 10: \"))\n",
        "    if numero_utente == numero_casuale:\n",
        "        print(\"Bravo! Hai indovinato il numero casuale.\")\n",
        "        indovinato = True\n",
        "    else:\n",
        "        print(\"Mi dispiace, non hai indovinato. Riprova.\")"
      ],
      "metadata": {
        "colab": {
          "base_uri": "https://localhost:8080/"
        },
        "id": "tL6NUJqyP0td",
        "outputId": "2abe3d4c-cfaa-46de-9fb0-794d4e03b6ca"
      },
      "execution_count": 10,
      "outputs": [
        {
          "output_type": "stream",
          "name": "stdout",
          "text": [
            "Indovina il numero intero casuale compreso tra 1 e 10: 6\n",
            "Mi dispiace, non hai indovinato. Riprova.\n",
            "Indovina il numero intero casuale compreso tra 1 e 10: 5\n",
            "Mi dispiace, non hai indovinato. Riprova.\n",
            "Indovina il numero intero casuale compreso tra 1 e 10: 1\n",
            "Mi dispiace, non hai indovinato. Riprova.\n",
            "Indovina il numero intero casuale compreso tra 1 e 10: 5\n",
            "Mi dispiace, non hai indovinato. Riprova.\n",
            "Indovina il numero intero casuale compreso tra 1 e 10: 2\n",
            "Mi dispiace, non hai indovinato. Riprova.\n",
            "Indovina il numero intero casuale compreso tra 1 e 10: 10\n",
            "Mi dispiace, non hai indovinato. Riprova.\n",
            "Indovina il numero intero casuale compreso tra 1 e 10: 3\n",
            "Bravo! Hai indovinato il numero casuale.\n"
          ]
        }
      ]
    },
    {
      "cell_type": "code",
      "source": [
        "#Stampare i numeri pari da 2 a 10 usando un loop while.\n",
        "numero = 2\n",
        "while numero <= 10:\n",
        "    print(numero)\n",
        "    numero += 2"
      ],
      "metadata": {
        "colab": {
          "base_uri": "https://localhost:8080/"
        },
        "id": "uyaY2tjVLsSU",
        "outputId": "cf51901c-5334-4933-851c-440f355068cb"
      },
      "execution_count": 9,
      "outputs": [
        {
          "output_type": "stream",
          "name": "stdout",
          "text": [
            "2\n",
            "4\n",
            "6\n",
            "8\n",
            "10\n"
          ]
        }
      ]
    },
    {
      "cell_type": "code",
      "source": [
        "#Calcolare la somma dei primi n numeri interi positivi usando un loop while. L'utente deve inserire il valore di n.\n",
        "n = int(input(\"Inserisci il valore di n: \"))\n",
        "somma = 0\n",
        "numero = 1\n",
        "while numero <= n:\n",
        "    somma += numero\n",
        "    numero += 1\n",
        "    print(\"La somma dei primi\", n, \"numeri interi positivi\", somma)\n"
      ],
      "metadata": {
        "colab": {
          "base_uri": "https://localhost:8080/"
        },
        "id": "yauNCE4GJ3ti",
        "outputId": "5f88f14b-7e81-4a4e-9cc8-6c8f00c76fa9"
      },
      "execution_count": 7,
      "outputs": [
        {
          "output_type": "stream",
          "name": "stdout",
          "text": [
            "Inserisci il valore di n: 5\n",
            "La somma dei primi 5 numeri interi positivi 1\n",
            "La somma dei primi 5 numeri interi positivi 3\n",
            "La somma dei primi 5 numeri interi positivi 6\n",
            "La somma dei primi 5 numeri interi positivi 10\n",
            "La somma dei primi 5 numeri interi positivi 15\n"
          ]
        }
      ]
    },
    {
      "cell_type": "code",
      "execution_count": 1,
      "metadata": {
        "colab": {
          "base_uri": "https://localhost:8080/"
        },
        "id": "rCsbaAZ-JlVD",
        "outputId": "6436471f-4834-4744-9746-397d77a3da41"
      },
      "outputs": [
        {
          "output_type": "stream",
          "name": "stdout",
          "text": [
            "1\n",
            "2\n",
            "3\n",
            "4\n",
            "5\n",
            "6\n",
            "7\n",
            "8\n",
            "9\n",
            "10\n"
          ]
        }
      ],
      "source": [
        "#Stampare i numeri interi da 1 a 10 usando un loop while.\n",
        "numero = 1\n",
        "while numero <= 10:\n",
        "    print(numero)\n",
        "    numero += 1"
      ]
    }
  ]
}