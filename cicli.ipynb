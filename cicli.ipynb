{
  "nbformat": 4,
  "nbformat_minor": 0,
  "metadata": {
    "colab": {
      "provenance": [],
      "authorship_tag": "ABX9TyPXSF8mnoN9HA/kEqjDsWAK",
      "include_colab_link": true
    },
    "kernelspec": {
      "name": "python3",
      "display_name": "Python 3"
    },
    "language_info": {
      "name": "python"
    }
  },
  "cells": [
    {
      "cell_type": "markdown",
      "metadata": {
        "id": "view-in-github",
        "colab_type": "text"
      },
      "source": [
        "<a href=\"https://colab.research.google.com/github/Francesca997/python/blob/main/cicli.ipynb\" target=\"_parent\"><img src=\"https://colab.research.google.com/assets/colab-badge.svg\" alt=\"Open In Colab\"/></a>"
      ]
    },
    {
      "cell_type": "code",
      "source": [
        "#Scrivere un programma che utilizzi un loop for per calcolare la media di una lista di numeri.\n",
        "numeri = [1,2,3,4,5]\n",
        "somma = 0\n",
        "for numero in numeri:\n",
        "    somma += numero\n",
        "media = somma / len(numeri)\n",
        "print(media)"
      ],
      "metadata": {
        "colab": {
          "base_uri": "https://localhost:8080/"
        },
        "id": "YqPn3IGUBtx7",
        "outputId": "12a0063c-b572-48e5-933a-b4363f8301e9"
      },
      "execution_count": 15,
      "outputs": [
        {
          "output_type": "stream",
          "name": "stdout",
          "text": [
            "3.0\n"
          ]
        }
      ]
    },
    {
      "cell_type": "code",
      "source": [
        "#Scrivere un programma che utilizzi un loop for per contare quante volte una lettera compare in una stringa.\n",
        "stringa = \"ciao come stai\"\n",
        "contatore = 0\n",
        "for lettera in stringa:\n",
        "    if lettera == \"c\":\n",
        "        contatore += 1\n",
        "print(contatore)"
      ],
      "metadata": {
        "colab": {
          "base_uri": "https://localhost:8080/"
        },
        "id": "6hTj6xiJAMTF",
        "outputId": "2f8b4883-c060-4e99-8754-2ff30e37c513"
      },
      "execution_count": 14,
      "outputs": [
        {
          "output_type": "stream",
          "name": "stdout",
          "text": [
            "2\n"
          ]
        }
      ]
    },
    {
      "cell_type": "code",
      "source": [
        "#Scrivere un programma che utilizzi un loop for per stampare tutte le lettere di ogni stringa in una lista.\n",
        "stringhe = [\"ciao\",\"come\",\"stai\"]\n",
        "for stringa in stringhe:\n",
        "    for lettera in stringa:\n",
        "        print(lettera)"
      ],
      "metadata": {
        "colab": {
          "base_uri": "https://localhost:8080/"
        },
        "id": "gDV7Dva-AHZ1",
        "outputId": "5e94662a-0b05-4a66-f75a-66353e172dac"
      },
      "execution_count": 13,
      "outputs": [
        {
          "output_type": "stream",
          "name": "stdout",
          "text": [
            "c\n",
            "i\n",
            "a\n",
            "o\n",
            "c\n",
            "o\n",
            "m\n",
            "e\n",
            "s\n",
            "t\n",
            "a\n",
            "i\n"
          ]
        }
      ]
    },
    {
      "cell_type": "code",
      "source": [
        "#Scrivere un programma che utilizzi un loop for per stampare tutte le coppie chiave-valore di un dizionario.\n",
        "dizionario = {\"chiave1\":1,\"chiave2\":2,\"chiave3\":3}\n",
        "for chiave,valore in dizionario.items():\n",
        "    print(chiave,valore)"
      ],
      "metadata": {
        "colab": {
          "base_uri": "https://localhost:8080/"
        },
        "id": "NOYJtz2L_UG4",
        "outputId": "a6248902-fd65-4f58-aa9b-e3f7f1c057e2"
      },
      "execution_count": 12,
      "outputs": [
        {
          "output_type": "stream",
          "name": "stdout",
          "text": [
            "chiave1 1\n",
            "chiave2 2\n",
            "chiave3 3\n"
          ]
        }
      ]
    },
    {
      "cell_type": "code",
      "source": [
        "#Scrivere un programma che utilizzi un loop for per stampare tutte le chiavi di un dizionario.\n",
        "dizionario = {\"chiave1\":1,\"chiave2\":2,\"chiave3\":3}\n",
        "for chiave in dizionario:\n",
        "    print(chiave)"
      ],
      "metadata": {
        "colab": {
          "base_uri": "https://localhost:8080/"
        },
        "id": "00rh_Egw-6PP",
        "outputId": "0d90eddb-da84-40c5-8476-2dcdb9552525"
      },
      "execution_count": 11,
      "outputs": [
        {
          "output_type": "stream",
          "name": "stdout",
          "text": [
            "chiave1\n",
            "chiave2\n",
            "chiave3\n"
          ]
        }
      ]
    },
    {
      "cell_type": "code",
      "source": [
        "#Scrivere un programma che utilizzi un loop for per stampare tutte le lettere di una stringa.\n",
        "stringa = \"ciao\"\n",
        "for lettera in stringa:\n",
        "    print(lettera)"
      ],
      "metadata": {
        "colab": {
          "base_uri": "https://localhost:8080/"
        },
        "id": "050-kmPN-oIi",
        "outputId": "777acb9a-748a-4f78-e4e1-20091014b8ec"
      },
      "execution_count": 7,
      "outputs": [
        {
          "output_type": "stream",
          "name": "stdout",
          "text": [
            "c\n",
            "i\n",
            "a\n",
            "o\n"
          ]
        }
      ]
    },
    {
      "cell_type": "code",
      "source": [
        "#Scrivere un programma che utilizzi un loop for per stampare tutti i numeri pari da 1 a 20.\n",
        "for numero in range(2,21,2):\n",
        "    print(numero)"
      ],
      "metadata": {
        "colab": {
          "base_uri": "https://localhost:8080/"
        },
        "id": "VVNHO7yL-GPO",
        "outputId": "99339ffd-ad8e-4531-9a85-8742eeff2f7d"
      },
      "execution_count": 6,
      "outputs": [
        {
          "output_type": "stream",
          "name": "stdout",
          "text": [
            "2\n",
            "4\n",
            "6\n",
            "8\n",
            "10\n",
            "12\n",
            "14\n",
            "16\n",
            "18\n",
            "20\n"
          ]
        }
      ]
    },
    {
      "cell_type": "code",
      "source": [
        "#Scrivere un programma che utilizzi un loop for per sommare tutti i numeri in una lista.\n",
        "numeri = [1,2,3,4,5]\n",
        "somma = 0\n",
        "for numero in numeri:\n",
        "    somma += numero\n",
        "print(somma)"
      ],
      "metadata": {
        "colab": {
          "base_uri": "https://localhost:8080/"
        },
        "id": "Ahq_KI2L9N2y",
        "outputId": "0e14497f-223e-4e95-ffdd-ebc2e28c42b4"
      },
      "execution_count": 5,
      "outputs": [
        {
          "output_type": "stream",
          "name": "stdout",
          "text": [
            "15\n"
          ]
        }
      ]
    },
    {
      "cell_type": "code",
      "source": [
        "#Scrivere un programma che utilizzi un loop for per stampare tutti i numeri da 1 a 10.\n",
        "for numero in range(1,11):\n",
        "    print(numero)"
      ],
      "metadata": {
        "colab": {
          "base_uri": "https://localhost:8080/"
        },
        "id": "Vy8f4DsW9Ctm",
        "outputId": "be3d8871-5f11-40a9-91e4-f67feb899037"
      },
      "execution_count": 4,
      "outputs": [
        {
          "output_type": "stream",
          "name": "stdout",
          "text": [
            "1\n",
            "2\n",
            "3\n",
            "4\n",
            "5\n",
            "6\n",
            "7\n",
            "8\n",
            "9\n",
            "10\n"
          ]
        }
      ]
    },
    {
      "cell_type": "code",
      "execution_count": 3,
      "metadata": {
        "colab": {
          "base_uri": "https://localhost:8080/"
        },
        "id": "D-oWULt18Y8e",
        "outputId": "4a57df47-f628-4637-903c-f5f04d7fbea7"
      },
      "outputs": [
        {
          "output_type": "stream",
          "name": "stdout",
          "text": [
            "[1, 2, 3, 4, 5]\n",
            "[1, 2, 3, 4, 5]\n",
            "[1, 2, 3, 4, 5]\n",
            "[1, 2, 3, 4, 5]\n",
            "[1, 2, 3, 4, 5]\n"
          ]
        }
      ],
      "source": [
        "#Scrivere un programma che utilizzi un loop for per stampare ogni elemento di una lista.\n",
        "numeri = [1,2,3,4,5]\n",
        "for elemento in numeri:\n",
        "    print(numeri)"
      ]
    }
  ]
}