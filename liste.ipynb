{
  "nbformat": 4,
  "nbformat_minor": 0,
  "metadata": {
    "colab": {
      "provenance": [],
      "authorship_tag": "ABX9TyORheR0kMNGG4gJ3z5vHOzm",
      "include_colab_link": true
    },
    "kernelspec": {
      "name": "python3",
      "display_name": "Python 3"
    },
    "language_info": {
      "name": "python"
    }
  },
  "cells": [
    {
      "cell_type": "markdown",
      "metadata": {
        "id": "view-in-github",
        "colab_type": "text"
      },
      "source": [
        "<a href=\"https://colab.research.google.com/github/Francesca997/python/blob/main/liste.ipynb\" target=\"_parent\"><img src=\"https://colab.research.google.com/assets/colab-badge.svg\" alt=\"Open In Colab\"/></a>"
      ]
    },
    {
      "cell_type": "code",
      "source": [
        "#Contare quante volte l'elemento \"2\" appare nella lista precedente.\n",
        "lista =[1,2,3,4,5,6,7,8,9,10]\n",
        "print(lista.count(2))"
      ],
      "metadata": {
        "colab": {
          "base_uri": "https://localhost:8080/"
        },
        "id": "yc15lM8ILtpE",
        "outputId": "e2bfd34a-e47d-42a4-a807-7f6f55e6c9b9"
      },
      "execution_count": 20,
      "outputs": [
        {
          "output_type": "stream",
          "name": "stdout",
          "text": [
            "1\n"
          ]
        }
      ]
    },
    {
      "cell_type": "code",
      "source": [
        "#Ordinare la lista precedente in ordine decrescente.\n",
        "lista =[1,2,3,4,5,6,7,8,9,10]\n",
        "lista.sort(reverse=True)\n",
        "print(lista)"
      ],
      "metadata": {
        "colab": {
          "base_uri": "https://localhost:8080/"
        },
        "id": "T4dPgy6rLISY",
        "outputId": "5e329181-eaad-4d19-c0d2-93c4bcb2f9cd"
      },
      "execution_count": 19,
      "outputs": [
        {
          "output_type": "stream",
          "name": "stdout",
          "text": [
            "[10, 9, 8, 7, 6, 5, 4, 3, 2, 1]\n"
          ]
        }
      ]
    },
    {
      "cell_type": "code",
      "source": [
        "#Creare una nuova lista che contenga gli elementi con indici dispari della lista precedente.\n",
        "lista =[1,2,3,4,5,6,7,8,9,10]\n",
        "if len(lista) % 2 == 0 :\n",
        "  lista2 = lista[1::2]\n",
        "else:\n",
        "  lista2 = lista[0::1]\n",
        "print(lista2)"
      ],
      "metadata": {
        "colab": {
          "base_uri": "https://localhost:8080/"
        },
        "id": "JYsHvV-GJ3M8",
        "outputId": "3f783f3f-bc44-4c61-f3a8-870ef36ac70e"
      },
      "execution_count": 18,
      "outputs": [
        {
          "output_type": "stream",
          "name": "stdout",
          "text": [
            "[2, 4, 6, 8, 10]\n"
          ]
        }
      ]
    },
    {
      "cell_type": "code",
      "source": [
        "#Creare una nuova lista che contenga gli elementi con indici dispari della lista precedente.\n",
        "mia_lista = [1, 2, 3, 4, 5, 6, 7, 8, 9, 10]\n",
        "elementi_dispari = mia_lista[1::2]\n",
        "print(elementi_dispari)"
      ],
      "metadata": {
        "colab": {
          "base_uri": "https://localhost:8080/"
        },
        "id": "zzKetbw_Ik2L",
        "outputId": "d7e4e627-f292-4ca2-d081-d1b6327702d0"
      },
      "execution_count": 16,
      "outputs": [
        {
          "output_type": "stream",
          "name": "stdout",
          "text": [
            "[2, 4, 6, 8, 10]\n"
          ]
        }
      ]
    },
    {
      "cell_type": "code",
      "source": [
        "#Creare una nuova lista che contenga solo i primi tre elementi della lista precedente.\n",
        "mia_lista = [1, 2, 3, 4, 5]\n",
        "primi_tre_elementi = mia_lista[:3]\n",
        "print(primi_tre_elementi)"
      ],
      "metadata": {
        "colab": {
          "base_uri": "https://localhost:8080/"
        },
        "id": "aVGciIDpHn84",
        "outputId": "d4e1443a-d8fa-4641-ba89-1961e7ccc53c"
      },
      "execution_count": 8,
      "outputs": [
        {
          "output_type": "stream",
          "name": "stdout",
          "text": [
            "[1, 2, 3]\n"
          ]
        }
      ]
    },
    {
      "cell_type": "code",
      "source": [
        "#Rimuovere l'elemento con indice 3 dalla lista precedente.\n",
        "mia_lista = [1, 2, 3, 4, 5]\n",
        "mia_lista.pop(3)\n",
        "print(mia_lista)"
      ],
      "metadata": {
        "colab": {
          "base_uri": "https://localhost:8080/"
        },
        "id": "-dxxj9VDGKcz",
        "outputId": "057ddb2a-ab69-4ed2-a0e7-52727ccc01c6"
      },
      "execution_count": 7,
      "outputs": [
        {
          "output_type": "stream",
          "name": "stdout",
          "text": [
            "[1, 2, 3, 5]\n"
          ]
        }
      ]
    },
    {
      "cell_type": "code",
      "source": [
        "#Aggiungere un nuovo elemento \"6\" alla lista precedente.\n",
        "mia_lista = [1, 2, 3, 4, 5]\n",
        "mia_lista.append(6)\n",
        "print(mia_lista)"
      ],
      "metadata": {
        "colab": {
          "base_uri": "https://localhost:8080/"
        },
        "id": "1-sr7Ag1FnQb",
        "outputId": "86f87b7d-bf00-45a5-b1a4-38cd63c1dde0"
      },
      "execution_count": 4,
      "outputs": [
        {
          "output_type": "stream",
          "name": "stdout",
          "text": [
            "[1, 2, 3, 4, 5, 6]\n"
          ]
        }
      ]
    },
    {
      "cell_type": "code",
      "source": [
        "#Accedere all'elemento con indice 2 della lista precedente.\n",
        "mia_lista = [1, 2, 3, 4, 5]\n",
        "print(mia_lista[2])"
      ],
      "metadata": {
        "colab": {
          "base_uri": "https://localhost:8080/"
        },
        "id": "YN9K4A3fEt_T",
        "outputId": "9825a7d8-ae55-478f-9dca-0419e237a921"
      },
      "execution_count": 3,
      "outputs": [
        {
          "output_type": "stream",
          "name": "stdout",
          "text": [
            "3\n"
          ]
        }
      ]
    },
    {
      "cell_type": "code",
      "source": [
        "#Creare una lista di numeri interi da 1 a 5 e assegnarla a una variabile e stamparla.\n",
        "mia_lista = [1, 2, 3, 4, 5]\n",
        "print(mia_lista)"
      ],
      "metadata": {
        "colab": {
          "base_uri": "https://localhost:8080/"
        },
        "id": "WbLEauQ5ElqK",
        "outputId": "3eef87ec-0c06-43d1-913e-22240458ece2"
      },
      "execution_count": 1,
      "outputs": [
        {
          "output_type": "stream",
          "name": "stdout",
          "text": [
            "[1, 2, 3, 4, 5]\n"
          ]
        }
      ]
    },
    {
      "cell_type": "code",
      "source": [
        "mia_lista = []\n",
        "\n",
        "print(mia_lista)"
      ],
      "metadata": {
        "colab": {
          "base_uri": "https://localhost:8080/"
        },
        "id": "lVxi0C_FEpto",
        "outputId": "72c99cda-5eeb-4e9e-8907-851e2d76cdef"
      },
      "execution_count": 2,
      "outputs": [
        {
          "output_type": "stream",
          "name": "stdout",
          "text": [
            "[]\n"
          ]
        }
      ]
    }
  ]
}