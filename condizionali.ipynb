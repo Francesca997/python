{
  "nbformat": 4,
  "nbformat_minor": 0,
  "metadata": {
    "colab": {
      "provenance": [],
      "authorship_tag": "ABX9TyONy9xxpQtIL2vbXfQUCO8v",
      "include_colab_link": true
    },
    "kernelspec": {
      "name": "python3",
      "display_name": "Python 3"
    },
    "language_info": {
      "name": "python"
    }
  },
  "cells": [
    {
      "cell_type": "markdown",
      "metadata": {
        "id": "view-in-github",
        "colab_type": "text"
      },
      "source": [
        "<a href=\"https://colab.research.google.com/github/Francesca997/python/blob/main/condizionali.ipynb\" target=\"_parent\"><img src=\"https://colab.research.google.com/assets/colab-badge.svg\" alt=\"Open In Colab\"/></a>"
      ]
    },
    {
      "cell_type": "code",
      "source": [
        "#Scrivere un programma che chieda all'utente di inserire un carattere. Se il carattere è una vocale (a, e, i, o, u), stampare \"Il carattere inserito è una vocale\". Se il carattere è una consonante isAlpha(), stampare \"Il carattere inserito è una consonante\". Se il carattere non è una lettera, stampare \"Il carattere inserito non è una lettera\".\n",
        "carattere = input(\"Inserisci un carattere: \").lower()\n",
        "if carattere.lower() in \"aeiou\":\n",
        "    print(\"Il carattere inserito è una vocale\")\n",
        "elif carattere.isalpha():\n",
        "    print(\"Il carattere inserito è una consonante\")\n",
        "\n",
        "else:\n",
        "    print(\"Il carattere inserito non è una lettera\")"
      ],
      "metadata": {
        "colab": {
          "base_uri": "https://localhost:8080/"
        },
        "id": "NTqSdKx6zRev",
        "outputId": "4c954abf-6a0b-43b1-aba9-c2070c45b7a4"
      },
      "execution_count": 9,
      "outputs": [
        {
          "output_type": "stream",
          "name": "stdout",
          "text": [
            "Inserisci un carattere: 4\n",
            "Il carattere inserito non è una lettera\n"
          ]
        }
      ]
    },
    {
      "cell_type": "code",
      "source": [
        "#Scrivere un programma che chieda all'utente di inserire un numero intero. Se il numero è maggiore di 10, stampare \"Il numero è maggiore di 10\". Se il numero è uguale a 10, stampare \"Il numero è uguale a 10\". Se il numero è minore di 10, stampare \"Il numero è minore di 10\".\n",
        "numero = int(input(\"Inserisci un numero intero: \"))\n",
        "if numero > 10:\n",
        "    print(\"Il numero è maggiore di 10\")\n",
        "elif numero == 10:\n",
        "    print(\"Il numero è uguale a 10\")\n",
        "\n",
        "else:\n",
        "    print(\"Il numero è minore di 10\")"
      ],
      "metadata": {
        "colab": {
          "base_uri": "https://localhost:8080/"
        },
        "id": "74vQ-3MLy0hl",
        "outputId": "87da1bff-b06f-4cb8-adbc-a530a0ead998"
      },
      "execution_count": 6,
      "outputs": [
        {
          "output_type": "stream",
          "name": "stdout",
          "text": [
            "Inserisci un numero intero: 12\n",
            "Il numero è maggiore di 10\n"
          ]
        }
      ]
    },
    {
      "cell_type": "code",
      "source": [
        "#Scrivere un programma che chiede all'utente di inserire un numero e stampa \"Il numero è compreso tra 1 e 10\" se il numero è compreso tra 1 e 10, altrimenti stampa \"Il numero non è compreso tra 1 e 10\".\n",
        "numero = int(input(\"Inserisci un numero: \"))\n",
        "if numero >= 1 and numero <= 10:\n",
        "    print(\"Il numero è compreso tra 1 e 10\")\n",
        "\n",
        "else:\n",
        "    print(\"Il numero non è compreso tra 1 e 10\")"
      ],
      "metadata": {
        "colab": {
          "base_uri": "https://localhost:8080/"
        },
        "id": "WGYdxYHyyk4c",
        "outputId": "63bbef87-c003-4b04-da69-8165549feaf1"
      },
      "execution_count": 5,
      "outputs": [
        {
          "output_type": "stream",
          "name": "stdout",
          "text": [
            "Inserisci un numero: 5\n",
            "Il numero è compreso tra 1 e 10\n"
          ]
        }
      ]
    },
    {
      "cell_type": "code",
      "source": [
        "#Scrivere un programma che chiede all'utente di inserire una lettera e stampa \"La lettera è una vocale\" se la lettera è una vocale (a, e, i, o, u), altrimenti stampa \"La lettera non è una vocale\".\n",
        "lettera = input(\"Inserisci una lettera: \").lower()\n",
        "if lettera in \"aeiou\":\n",
        "    print(\"La lettera è una vocale\")\n",
        "else:\n",
        "    print(\"La lettera non è una vocale\")"
      ],
      "metadata": {
        "colab": {
          "base_uri": "https://localhost:8080/"
        },
        "id": "X1C4SW36yOEY",
        "outputId": "c49e2590-4d9a-49b7-f34a-4d304a57dccc"
      },
      "execution_count": 4,
      "outputs": [
        {
          "output_type": "stream",
          "name": "stdout",
          "text": [
            "Inserisci una lettera: A\n",
            "La lettera è una vocale\n"
          ]
        }
      ]
    },
    {
      "cell_type": "code",
      "source": [
        "#Scrivere un programma che chiede all'utente di inserire un numero e stampa \"Il numero è pari\" se il numero è pari, altrimenti stampa \"Il numero è dispari\".\n",
        "numero = int(input(\"Inserisci un numero: \"))\n",
        "if numero % 2 == 0:\n",
        "    print(\"Il numero è pari\")\n",
        "else:\n",
        "    print(\"Il numero è dispari\")"
      ],
      "metadata": {
        "colab": {
          "base_uri": "https://localhost:8080/"
        },
        "id": "6lMYjDz-w86t",
        "outputId": "b5578c93-ccc6-4491-e95e-0e0dd9f6c0e8"
      },
      "execution_count": 2,
      "outputs": [
        {
          "output_type": "stream",
          "name": "stdout",
          "text": [
            "Inserisci un numero: 52\n",
            "Il numero è pari\n"
          ]
        }
      ]
    },
    {
      "cell_type": "code",
      "source": [
        "#Scrivere un programma che chiede all'utente di inserire una stringa e stampa \"La stringa è vuota\" se la stringa è vuota, altrimenti stampa \"La stringa non è vuota\".\n",
        "stringa = input(\"Inserisci una stringa: \")\n",
        "if stringa == \"\":\n",
        "    print(\"La stringa è vuota\")\n",
        "else:\n",
        "    print(\"La stringa non è vuota\")"
      ],
      "metadata": {
        "colab": {
          "base_uri": "https://localhost:8080/"
        },
        "id": "sRdBTz98w0Su",
        "outputId": "72f3bba9-529a-4268-8d66-d8a416813002"
      },
      "execution_count": 1,
      "outputs": [
        {
          "output_type": "stream",
          "name": "stdout",
          "text": [
            "Inserisci una stringa: stringa\n",
            "La stringa non è vuota\n"
          ]
        }
      ]
    },
    {
      "cell_type": "code",
      "source": [
        "#Dati tre numeri da input, trovare il maggiore tra i tre.\n",
        "num1 = int(input(\"Inserisci il primo numero: \"))\n",
        "num2 = int(input(\"Inserisci il secondo numero: \"))\n",
        "num3 = int(input(\"Inserisci il terzo numero: \"))\n",
        "if num1 >= num2 and num1 >= num3:\n",
        "    print(\"Il numero maggiore è\", num1)\n",
        "\n",
        "elif num2 >= num1 and num2 >= num3:\n",
        "    print(\"Il numero maggiore è\", num2)\n",
        "\n",
        "else:\n",
        "    print(\"Il numero maggiore è\", num3)"
      ],
      "metadata": {
        "colab": {
          "base_uri": "https://localhost:8080/"
        },
        "id": "UeMZG2csTRYG",
        "outputId": "684f56d1-03d2-41c7-a1b3-ee99090d6d2f"
      },
      "execution_count": null,
      "outputs": [
        {
          "output_type": "stream",
          "name": "stdout",
          "text": [
            "Inserisci il primo numero: 5\n",
            "Inserisci il secondo numero: 2\n",
            "Inserisci il terzo numero: 12\n",
            "Il numero maggiore è 12\n"
          ]
        }
      ]
    },
    {
      "cell_type": "code",
      "source": [
        "#Scrivere un programma che chiede all'utente di inserire due numeri e stampa \"Il primo numero è maggiore\" se il primo numero è maggiore del secondo, \"Il secondo numero è maggiore\" se il secondo numero è maggiore del primo, altrimenti stampa \"I numeri sono uguali\".\n",
        "numero1 = int(input(\"Inserisci il primo numero: \"))\n",
        "numero2 = int(input(\"Inserisci il secondo numero: \"))\n",
        "if numero1 > numero2:\n",
        "    print(\"Il primo numero è maggiore\")\n",
        "elif numero2 > numero1:\n",
        "    print(\"Il secondo numero è maggiore\")\n",
        "else:\n",
        "    print(\"I numeri sono uguali\")"
      ],
      "metadata": {
        "colab": {
          "base_uri": "https://localhost:8080/"
        },
        "id": "oC7IuRYmRrYB",
        "outputId": "9685d80b-5d83-48b3-8b1e-bf92251f2592"
      },
      "execution_count": null,
      "outputs": [
        {
          "output_type": "stream",
          "name": "stdout",
          "text": [
            "Inserisci il primo numero: 5\n",
            "Inserisci il secondo numero: 12\n",
            "Il secondo numero è maggiore\n"
          ]
        }
      ]
    },
    {
      "cell_type": "code",
      "execution_count": null,
      "metadata": {
        "colab": {
          "base_uri": "https://localhost:8080/"
        },
        "id": "g3dLrE4mQsyr",
        "outputId": "9140204c-c6b8-4750-8453-2312216ce0be"
      },
      "outputs": [
        {
          "output_type": "stream",
          "name": "stdout",
          "text": [
            "Inserisci un numero: 5\n",
            "Il numero è positivo\n"
          ]
        }
      ],
      "source": [
        "#Scrivere un programma che chiede all'utente di inserire un numero e stampa \"Il numero è positivo\" se il numero è maggiore di zero, altrimenti stampa \"Il numero è negativo\"\n",
        "numero = int(input(\"Inserisci un numero: \"))\n",
        "\n",
        "if numero > 0:\n",
        "    print(\"Il numero è positivo\")\n",
        "else:\n",
        "    print(\"Il numero è negativo\")"
      ]
    }
  ]
}