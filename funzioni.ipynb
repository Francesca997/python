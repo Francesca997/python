{
  "nbformat": 4,
  "nbformat_minor": 0,
  "metadata": {
    "colab": {
      "provenance": [],
      "authorship_tag": "ABX9TyMZyW0XJjCp65iMxoxFDfrp",
      "include_colab_link": true
    },
    "kernelspec": {
      "name": "python3",
      "display_name": "Python 3"
    },
    "language_info": {
      "name": "python"
    }
  },
  "cells": [
    {
      "cell_type": "markdown",
      "metadata": {
        "id": "view-in-github",
        "colab_type": "text"
      },
      "source": [
        "<a href=\"https://colab.research.google.com/github/Francesca997/python/blob/main/funzioni.ipynb\" target=\"_parent\"><img src=\"https://colab.research.google.com/assets/colab-badge.svg\" alt=\"Open In Colab\"/></a>"
      ]
    },
    {
      "cell_type": "code",
      "source": [
        "#Scrivi una funzione che prende una lista di parole e restituisce una lista contenente solo le parole palindrome.\n",
        "def trova_palindrome(lista_parole):\n",
        "  palindrome = []\n",
        "  for parola in lista_parole:\n",
        "    if parola == parola[::-1]:\n",
        "      palindrome.append(parola)\n",
        "  return palindrome\n",
        "parole = [\"anna\", \"casa\", \"radar\", \"gatto\", \"otto\"]\n",
        "print(\"Parole palindrome:\", trova_palindrome(parole))"
      ],
      "metadata": {
        "colab": {
          "base_uri": "https://localhost:8080/"
        },
        "id": "wUG1aj__Dlco",
        "outputId": "22b18f47-9b66-486f-82ca-ecd8c1549cf0"
      },
      "execution_count": 36,
      "outputs": [
        {
          "output_type": "stream",
          "name": "stdout",
          "text": [
            "Parole palindrome: ['anna', 'radar', 'otto']\n"
          ]
        }
      ]
    },
    {
      "cell_type": "code",
      "source": [
        "#Scrivi una funzione che prende una lista di parole e restituisce la parola più lunga.\n",
        "def parola_lunga(lista_parole):\n",
        "  parola_lunga = \"\"\n",
        "  for parola in lista_parole:\n",
        "    if len(parola) > len(parola_lunga):\n",
        "      parola_lunga = parola\n",
        "  return parola_lunga\n",
        "lista = [\"ciao\", \"come\", \"stai\", \"oggi\"]\n",
        "parola_lunga(lista)"
      ],
      "metadata": {
        "colab": {
          "base_uri": "https://localhost:8080/",
          "height": 36
        },
        "id": "DE6C9v1L5tHZ",
        "outputId": "3e81c3f7-8667-4561-8900-04ec01e7824a"
      },
      "execution_count": 23,
      "outputs": [
        {
          "output_type": "execute_result",
          "data": {
            "text/plain": [
              "'ciao'"
            ],
            "application/vnd.google.colaboratory.intrinsic+json": {
              "type": "string"
            }
          },
          "metadata": {},
          "execution_count": 23
        }
      ]
    },
    {
      "cell_type": "code",
      "source": [
        "#Scrivi una funzione che prende una lista di numeri e restituisce il valore massimo.\n",
        "def valore_massimo(lista_numeri):\n",
        "  massimo = lista_numeri[0]\n",
        "  for numero in lista_numeri:\n",
        "    if numero > massimo:\n",
        "      massimo = numero\n",
        "  return massimo\n",
        "lista = [1, 2, 3, 4, 5]\n",
        "valore_massimo(lista)"
      ],
      "metadata": {
        "colab": {
          "base_uri": "https://localhost:8080/"
        },
        "id": "rseUvsr-2UVm",
        "outputId": "30ffb4e1-2210-47ff-e712-d012e381459b"
      },
      "execution_count": 22,
      "outputs": [
        {
          "output_type": "execute_result",
          "data": {
            "text/plain": [
              "5"
            ]
          },
          "metadata": {},
          "execution_count": 22
        }
      ]
    },
    {
      "cell_type": "code",
      "source": [
        "#Scrivi una funzione che prende una lista di numeri e restituisce la media dei numeri.\n",
        "def media_numeri(lista_numeri):\n",
        "  somma = sum(lista_numeri)\n",
        "  media = somma / len(lista_numeri)\n",
        "  return media\n",
        "lista = [1, 2, 3, 4, 5]\n",
        "media_numeri(lista)"
      ],
      "metadata": {
        "colab": {
          "base_uri": "https://localhost:8080/"
        },
        "id": "ld2k_aaO_3oW",
        "outputId": "724b8dcc-d09d-4d88-e8bc-2d29576b7751"
      },
      "execution_count": 31,
      "outputs": [
        {
          "output_type": "execute_result",
          "data": {
            "text/plain": [
              "3.0"
            ]
          },
          "metadata": {},
          "execution_count": 31
        }
      ]
    },
    {
      "cell_type": "code",
      "source": [
        "#Scrivi una funzione che prende una lista di parole e restituisce una lista contenente la lunghezza di ciascuna parola.\n",
        "def lunghezza_parole(lista_parole):\n",
        "  risultato = []\n",
        "  for parola in lista_parole:\n",
        "    risultato.append(len(parola))\n",
        "  return risultato\n",
        "lista = [\"ciao\", \"come\", \"stai\", \"oggi\"]\n",
        "lunghezza_parole(lista)"
      ],
      "metadata": {
        "colab": {
          "base_uri": "https://localhost:8080/"
        },
        "id": "Nl0Rfu2x2CjD",
        "outputId": "4bdc8048-b92e-4c53-9a48-4b29e0974bf4"
      },
      "execution_count": 21,
      "outputs": [
        {
          "output_type": "execute_result",
          "data": {
            "text/plain": [
              "[4, 4, 4, 4]"
            ]
          },
          "metadata": {},
          "execution_count": 21
        }
      ]
    },
    {
      "cell_type": "code",
      "source": [
        "#Scrivi una funzione che prende una lista di numeri e restituisce una lista contenente solo i numeri pari.\n",
        "def filtra_pari(lista_numeri):\n",
        "  risultato = []\n",
        "  for numero in lista_numeri:\n",
        "    if numero % 2 == 0:\n",
        "      risultato.append(numero)\n",
        "  return risultato\n",
        "lista = [1, 2, 3, 4, 5]\n",
        "filtra_pari(lista)"
      ],
      "metadata": {
        "colab": {
          "base_uri": "https://localhost:8080/"
        },
        "id": "bdj4mkP_zXiy",
        "outputId": "17b5d39f-6c71-453e-ed6d-7da4c1a63f19"
      },
      "execution_count": 20,
      "outputs": [
        {
          "output_type": "execute_result",
          "data": {
            "text/plain": [
              "[2, 4]"
            ]
          },
          "metadata": {},
          "execution_count": 20
        }
      ]
    },
    {
      "cell_type": "code",
      "source": [
        "#Scrivi una funzione che prende una lista di parole e restituisce una lista contenente solo le parole che iniziano con una lettera specificata.\n",
        "def filtra_parole_per_lettera(lista_parole, lettera):\n",
        "  risultato = []\n",
        "  for parola in lista_parole:\n",
        "    if parola.startswith(lettera):\n",
        "      risultato.append(parola)\n",
        "  return risultato\n",
        "lista = [\"ciao\", \"come\", \"stai\", \"oggi\"]\n",
        "parole_con_lettera(lista, \"c\")"
      ],
      "metadata": {
        "colab": {
          "base_uri": "https://localhost:8080/"
        },
        "id": "48jqgsgexsPC",
        "outputId": "d60dda4b-1c1c-4932-c5eb-5f020e86f9c4"
      },
      "execution_count": 18,
      "outputs": [
        {
          "output_type": "execute_result",
          "data": {
            "text/plain": [
              "['ciao', 'come']"
            ]
          },
          "metadata": {},
          "execution_count": 18
        }
      ]
    },
    {
      "cell_type": "code",
      "source": [
        "#Scrivi una funzione che prende una stringa e restituisce la stringa invertita.\n",
        "stringa = \"ciao\"\n",
        "stringa_invertita = stringa[::-1]\n",
        "print(stringa_invertita)"
      ],
      "metadata": {
        "colab": {
          "base_uri": "https://localhost:8080/"
        },
        "id": "Djt9nSJSxFQK",
        "outputId": "fa639b7c-869b-4689-d0b4-61a24db46a8e"
      },
      "execution_count": 2,
      "outputs": [
        {
          "output_type": "stream",
          "name": "stdout",
          "text": [
            "oaic\n"
          ]
        }
      ]
    },
    {
      "cell_type": "code",
      "execution_count": 1,
      "metadata": {
        "colab": {
          "base_uri": "https://localhost:8080/"
        },
        "id": "7Jr-H7pgwBbU",
        "outputId": "8ba5f626-04f6-4be8-b315-aeeb3d50493d"
      },
      "outputs": [
        {
          "output_type": "stream",
          "name": "stdout",
          "text": [
            "15\n"
          ]
        }
      ],
      "source": [
        "#Scrivi una funzione che prende una lista di numeri e restituisce la somma di tutti gli elementi.\n",
        "lista = [1, 2, 3, 4, 5]\n",
        "somma = sum(lista)\n",
        "print(somma)"
      ]
    }
  ]
}